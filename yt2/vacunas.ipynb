{
 "cells": [
  {
   "cell_type": "code",
   "execution_count": null,
   "id": "7525c4e8-04ef-4ca0-84c4-69cd582460ea",
   "metadata": {},
   "outputs": [],
   "source": [
    "import dash\n",
    "import dash_core_components as dcc\n",
    "import dash_html_components as html\n",
    "import plotly.express as px\n",
    "import plotly.graph_objs as go\n",
    "import pandas as pd\n",
    "from dash.dependencies import Input, Output\n",
    "\n",
    "\n",
    "df= pd.read_csv(\"Covid19VacunasAgrupadas_2.csv\")\n",
    "\n",
    "app= dash.Dash(__name__)\n",
    "\n",
    "app.layaut = html.Div([\n",
    "    \n",
    "    html.Div([\n",
    "        html.H1(\"Vacunados por covid\"),\n",
    "        html.Img(src = \"imagen/img_vacuna.jpg\")\n",
    "             ], className = \"Banner\")   \n",
    "   \n",
    "    \n",
    "])\n",
    "\n",
    "if __name__ == '__main__':\n",
    "    app.run_server(port=2020)\n",
    "        \n"
   ]
  },
  {
   "cell_type": "code",
   "execution_count": null,
   "id": "b47d680a-dd78-46dd-9c8c-39993b6bd0b1",
   "metadata": {},
   "outputs": [],
   "source": []
  },
  {
   "cell_type": "code",
   "execution_count": 7,
   "id": "3f323f29-0647-40c7-b6b6-7c8ff923e878",
   "metadata": {},
   "outputs": [],
   "source": []
  }
 ],
 "metadata": {
  "kernelspec": {
   "display_name": "Python 3 (ipykernel)",
   "language": "python",
   "name": "python3"
  },
  "language_info": {
   "codemirror_mode": {
    "name": "ipython",
    "version": 3
   },
   "file_extension": ".py",
   "mimetype": "text/x-python",
   "name": "python",
   "nbconvert_exporter": "python",
   "pygments_lexer": "ipython3",
   "version": "3.9.7"
  }
 },
 "nbformat": 4,
 "nbformat_minor": 5
}
